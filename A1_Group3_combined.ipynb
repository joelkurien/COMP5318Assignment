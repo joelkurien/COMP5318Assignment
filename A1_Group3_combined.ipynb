{
 "cells": [
  {
   "cell_type": "markdown",
   "id": "eff00fc8-d382-4d7c-bc76-e0c8a860e74e",
   "metadata": {},
   "source": [
    "# COMP5318 Assignment 1: Rice Classification"
   ]
  },
  {
   "cell_type": "markdown",
   "id": "4a451263-4acb-403e-a284-719c8bbdc378",
   "metadata": {},
   "source": [
    "##### Group number: Assignment1-groups 3\n",
    "##### Student 1 SID: 540784343\n",
    "##### Student 2 SID: 520330054  \n",
    "##### Student 3 SID: 540666979 \n",
    "##### Student 4 SID: 540831430"
   ]
  },
  {
   "cell_type": "code",
   "execution_count": 1,
   "id": "8cc28126-3785-4e6d-9128-723e013bbe74",
   "metadata": {},
   "outputs": [],
   "source": [
    "# Import all libraries\n",
    "from sklearn.model_selection import StratifiedKFold\n",
    "from sklearn.preprocessing import MinMaxScaler\n",
    "from sklearn.impute import SimpleImputer\n",
    "import numpy as np\n",
    "import pandas as pd\n",
    "from sklearn.ensemble import AdaBoostClassifier, GradientBoostingClassifier, BaggingClassifier\n",
    "from sklearn.tree import DecisionTreeClassifier\n",
    "from sklearn.neighbors import KNeighborsClassifier\n",
    "from sklearn.model_selection import cross_val_score, GridSearchCV, train_test_split\n",
    "from sklearn.linear_model import LogisticRegression         \n",
    "from sklearn.naive_bayes import GaussianNB\n",
    "from sklearn.model_selection import cross_val_predict\n",
    "from sklearn.metrics import confusion_matrix\n",
    "import seaborn as sns\n",
    "from matplotlib import colors\n",
    "\n",
    "from sklearn.metrics import accuracy_score"
   ]
  },
  {
   "cell_type": "code",
   "execution_count": 2,
   "id": "46aa6eba",
   "metadata": {},
   "outputs": [
    {
     "name": "stdout",
     "output_type": "stream",
     "text": [
      "1.2.2\n"
     ]
    }
   ],
   "source": [
    "import sklearn\n",
    "print(sklearn.__version__)"
   ]
  },
  {
   "cell_type": "code",
   "execution_count": 3,
   "id": "dc82fa15-b456-4591-870d-3f5e910b33b4",
   "metadata": {},
   "outputs": [],
   "source": [
    "# Ignore future warnings\n",
    "from warnings import simplefilter\n",
    "simplefilter(action='ignore', category=FutureWarning)"
   ]
  },
  {
   "cell_type": "code",
   "execution_count": 4,
   "id": "c1dc1889-4a33-4ccb-9851-48eef2010097",
   "metadata": {},
   "outputs": [],
   "source": [
    "# Load the rice dataset: rice-final2.csv\n",
    "rice = pd.read_csv('rice-final2.csv')\n",
    "\n",
    "# print(f'dataset shape: {rice.shape}')\n",
    "# print(f'columns name: {rice.columns.tolist()}')\n",
    "# print(rice.head(10))"
   ]
  },
  {
   "cell_type": "code",
   "execution_count": 5,
   "id": "4d53325f-98a6-4188-b7f0-ce391fa370a1",
   "metadata": {},
   "outputs": [
    {
     "name": "stdout",
     "output_type": "stream",
     "text": [
      "0.4628,0.5406,0.5113,0.4803,0.7380,0.4699,0.1196,1\n",
      "0.4900,0.5547,0.5266,0.5018,0.7319,0.4926,0.8030,1\n",
      "0.6109,0.6847,0.6707,0.5409,0.8032,0.6253,0.1185,0\n",
      "0.6466,0.6930,0.6677,0.5961,0.7601,0.6467,0.2669,0\n",
      "0.6712,0.6233,0.4755,0.8293,0.3721,0.6803,0.4211,1\n",
      "0.2634,0.2932,0.2414,0.4127,0.5521,0.2752,0.2825,1\n",
      "0.8175,0.9501,0.9515,0.5925,0.9245,0.8162,0.0000,0\n",
      "0.3174,0.3588,0.3601,0.3908,0.6921,0.3261,0.8510,1\n",
      "0.3130,0.3050,0.2150,0.5189,0.3974,0.3159,0.4570,1\n",
      "0.5120,0.5237,0.4409,0.6235,0.5460,0.5111,0.3155,1\n"
     ]
    }
   ],
   "source": [
    "# Pre-process dataset\n",
    "# separate feature and target\n",
    "feature = rice.columns[:-1]\n",
    "target = rice.columns[-1]\n",
    "# print(feature)\n",
    "# print(target)\n",
    "\n",
    "\n",
    "# 1.missing attribute values -> mean value\n",
    "X_raw = rice[feature].apply(pd.to_numeric, errors='coerce')\n",
    "imputer = SimpleImputer(strategy='mean')\n",
    "X_impute = imputer.fit_transform(X_raw)\n",
    "# print(X_impute[:, 0].mean())\n",
    "# print(X_impute[155])\n",
    "# print(X_impute[6])\n",
    "\n",
    "\n",
    "# 2.MinMax normalisation\n",
    "scaler = MinMaxScaler()\n",
    "X_scaled = scaler.fit_transform(X_impute)\n",
    "\n",
    "\n",
    "#3. replace class1 -> 0, class2 -> 1\n",
    "y_raw = rice[target].astype(str).str.strip()\n",
    "RiceClass = {'class1': 0, 'class2': 1}\n",
    "y = y_raw.map(RiceClass)\n",
    "# print(y.head(10))\n",
    "\n",
    "\n",
    "#into numpy array\n",
    "X = X_scaled.astype(float)\n",
    "y = y.to_numpy().astype(int)\n",
    "\n",
    "# 4.Print first ten rows of pre-processed dataset to 4 decimal places as per assignment spec\n",
    "# A function is provided to assist\n",
    "\n",
    "def print_data(X, y, n_rows=10):\n",
    "    \"\"\"Takes a numpy data array and target and prints the first ten rows.\n",
    "    \n",
    "    Arguments:\n",
    "        X: numpy array of shape (n_examples, n_features)\n",
    "        y: numpy array of shape (n_examples)\n",
    "        n_rows: numpy of rows to print\n",
    "    \"\"\"\n",
    "    for example_num in range(n_rows):\n",
    "        for feature in X[example_num]:\n",
    "            print(\"{:.4f}\".format(feature), end=\",\")\n",
    "\n",
    "        if example_num == len(X)-1:\n",
    "            print(y[example_num],end=\"\")\n",
    "        else:\n",
    "            print(y[example_num])\n",
    "print_data(X, y, n_rows=10)         \n"
   ]
  },
  {
   "cell_type": "code",
   "execution_count": 6,
   "id": "25e2155e-0370-4e1a-a8d0-e857451ff72c",
   "metadata": {},
   "outputs": [],
   "source": [
    "#variables to handle experiment analysis visualizations\n",
    "boxplot_data = []\n",
    "estimators = []"
   ]
  },
  {
   "cell_type": "markdown",
   "id": "2e1f73cc-46ac-4f2a-8125-193fe02386a8",
   "metadata": {},
   "source": [
    "### Part 1: Cross-validation without parameter tuning"
   ]
  },
  {
   "cell_type": "code",
   "execution_count": 7,
   "id": "b210877e-c8eb-49c0-a769-11e113c31966",
   "metadata": {},
   "outputs": [],
   "source": [
    "## Setting the 10 fold stratified cross-validation\n",
    "cvKFold=StratifiedKFold(n_splits=10, shuffle=True, random_state=0)\n",
    "\n",
    "# The stratified folds from cvKFold should be provided to the classifiers"
   ]
  },
  {
   "cell_type": "code",
   "execution_count": null,
   "id": "ba45eab6-f6b3-4eb4-bc25-9ace14aed899",
   "metadata": {},
   "outputs": [],
   "source": []
  },
  {
   "cell_type": "code",
   "execution_count": 8,
   "id": "83b6309c-65cb-4c90-8452-c9c6dd8a30da",
   "metadata": {},
   "outputs": [],
   "source": [
    "# Logistic Regression\n",
    "def logregClassifier(X, y):\n",
    "    model = LogisticRegression(max_iter=1000, random_state=0)\n",
    "    scores = cross_val_score(model, X, y, cv=cvKFold, scoring='accuracy')\n",
    "    boxplot_data.append(scores)\n",
    "    estimators.append(('LR', model))\n",
    "    return scores.mean()"
   ]
  },
  {
   "cell_type": "code",
   "execution_count": 9,
   "id": "5548c21d-ebca-496b-96e8-185ceb64b171",
   "metadata": {},
   "outputs": [],
   "source": [
    "#Naïve Bayes\n",
    "def nbClassifier(X, y):\n",
    "    model = GaussianNB()\n",
    "    scores = cross_val_score(model, X, y, cv=cvKFold, scoring='accuracy')\n",
    "    boxplot_data.append(scores)\n",
    "    estimators.append(('NB', model))\n",
    "    return scores.mean()"
   ]
  },
  {
   "cell_type": "code",
   "execution_count": 10,
   "id": "d29132d7-6ad6-4e87-8962-49588ab12daf",
   "metadata": {},
   "outputs": [],
   "source": [
    "# Decision Tree\n",
    "def dtClassifier(X, y):\n",
    "    clf = DecisionTreeClassifier(criterion='entropy', random_state=0)\n",
    "    scores = cross_val_score(clf, X, y, cv=cvKFold)\n",
    "    boxplot_data.append(scores)\n",
    "    estimators.append(('DT', clf))\n",
    "    return scores.mean()"
   ]
  },
  {
   "cell_type": "code",
   "execution_count": 11,
   "id": "dd3c55cc-19b3-4eee-b774-8ca8fff98d4a",
   "metadata": {},
   "outputs": [],
   "source": [
    "# Ensembles: Bagging, Ada Boost and Gradient Boosting\n",
    "def bagDTClassifier(X, y, n_estimators, max_samples, max_depth):\n",
    "    base_dt = DecisionTreeClassifier(criterion='entropy', max_depth=max_depth, random_state=0)\n",
    "    bag = BaggingClassifier(\n",
    "        estimator=base_dt,\n",
    "        n_estimators=n_estimators,\n",
    "        max_samples=max_samples,\n",
    "        random_state=0,\n",
    "        n_jobs=-1,\n",
    "        bootstrap=True,\n",
    "        oob_score=True\n",
    "    )\n",
    "    scores = cross_val_score(bag, X, y, cv=cvKFold, scoring='accuracy', n_jobs=-1)\n",
    "    boxplot_data.append(scores)\n",
    "    estimators.append(('Bagging', bag))\n",
    "    return scores.mean()\n",
    "\n",
    "def adaDTClassifier(X, y, n_estimators, learning_rate, max_depth):  \n",
    "    base_estimator = DecisionTreeClassifier(criterion='entropy', max_depth=max_depth, random_state=0)\n",
    "    clf = AdaBoostClassifier(estimator = base_estimator, n_estimators=n_estimators, learning_rate = learning_rate, random_state=0)\n",
    "    scores = cross_val_score(clf, X, y, cv=cvKFold, scoring='accuracy', n_jobs=-1)\n",
    "    boxplot_data.append(scores)\n",
    "    estimators.append(('AdaBoost', clf))\n",
    "    return scores.mean()\n",
    "\n",
    "def gbClassifier(X, y, n_estimators, learning_rate):\n",
    "    clf = GradientBoostingClassifier(n_estimators=n_estimators, learning_rate=learning_rate, random_state=0)\n",
    "    scores = cross_val_score(clf, X, y, cv=cvKFold)\n",
    "    boxplot_data.append(scores)\n",
    "    estimators.append(('GB', clf))\n",
    "    return scores.mean()"
   ]
  },
  {
   "cell_type": "code",
   "execution_count": 12,
   "id": "7f140f73-a2b7-4a6e-86b2-6a01baa008ce",
   "metadata": {},
   "outputs": [
    {
     "name": "stdout",
     "output_type": "stream",
     "text": [
      "LogR average cross-validation accuracy:0.9386\n",
      "NB average cross-validation accuracy:0.9264\n",
      "DT average cross-validation accuracy: 0.9179\n",
      "Bagging average cross-validation accuracy: 0.9414\n",
      "AdaBoost average cross-validation accuracy: 0.9250\n",
      "GB average cross-validation accuracy: 0.9300\n"
     ]
    }
   ],
   "source": [
    "# Parameters for Part 1:\n",
    "\n",
    "#Bagging\n",
    "bag_n_estimators = 50\n",
    "bag_max_samples = 100\n",
    "bag_max_depth = 5\n",
    "\n",
    "#AdaBoost\n",
    "ada_n_estimators = 50\n",
    "ada_learning_rate = 0.5\n",
    "ada_bag_max_depth = 5\n",
    "\n",
    "#GB\n",
    "gb_n_estimators = 50\n",
    "gb_learning_rate = 0.5\n",
    "\n",
    "# Print results for each classifier in part 1 to 4 decimal places here:\n",
    "print(f\"LogR average cross-validation accuracy:{logregClassifier(X, y):.4f}\")\n",
    "print(f\"NB average cross-validation accuracy:{nbClassifier(X, y):.4f}\")\n",
    "print(f\"DT average cross-validation accuracy: {dtClassifier(X,y):.4f}\")\n",
    "print(f\"Bagging average cross-validation accuracy: {bagDTClassifier(X, y, bag_n_estimators, bag_max_samples, bag_max_depth):.4f}\")\n",
    "print(f\"AdaBoost average cross-validation accuracy: {adaDTClassifier(X, y, ada_n_estimators, ada_learning_rate, ada_bag_max_depth):.4f}\")\n",
    "print(f\"GB average cross-validation accuracy: {gbClassifier(X, y, gb_n_estimators, gb_learning_rate):.4f}\")"
   ]
  },
  {
   "cell_type": "markdown",
   "id": "8609741a-8b0c-404a-a5c0-520cccffbbca",
   "metadata": {},
   "source": [
    "### Part 2: Cross-validation with parameter tuning"
   ]
  },
  {
   "cell_type": "code",
   "execution_count": 13,
   "id": "0fbf6525-0705-48c7-a65f-aafbd8c5d71d",
   "metadata": {},
   "outputs": [],
   "source": [
    "# KNN\n",
    "k = [1, 3, 5, 7]\n",
    "p = [1, 2]\n",
    "\n",
    "\n",
    "def bestKNNClassifier(X, y):\n",
    "    X_train, X_test, y_train, y_test = train_test_split(X, y, stratify=y, random_state=0)\n",
    "\n",
    "    knn = KNeighborsClassifier()\n",
    "\n",
    "    param_grid = {\n",
    "        \"n_neighbors\": k,\n",
    "        \"p\": p,\n",
    "    }\n",
    "\n",
    "    grid = GridSearchCV(\n",
    "        estimator=knn,\n",
    "        param_grid=param_grid,\n",
    "        scoring=\"accuracy\",\n",
    "        cv=cvKFold,\n",
    "        n_jobs=-1,\n",
    "        refit=True,\n",
    "        return_train_score=False\n",
    "    )\n",
    "\n",
    "    grid.fit(X_train, y_train)\n",
    "    \n",
    "    best_k = int(grid.best_params_[\"n_neighbors\"])\n",
    "    best_p = int(grid.best_params_[\"p\"])\n",
    "    best_cv_acc = float(grid.best_score_)\n",
    "    \n",
    "    estimators.append((f\"KNN(k={best_k}, p={best_p})\", grid))\n",
    "    mask = (grid.cv_results_[\"param_n_neighbors\"] == best_k) & \\\n",
    "           (grid.cv_results_[\"param_p\"] == best_p)\n",
    "    fold_scores = grid.cv_results_[\"split0_test_score\"][mask][0:1]\n",
    "    fold_scores = []\n",
    "    n_splits = cvKFold.get_n_splits()\n",
    "    for i in range(n_splits):\n",
    "        key = f\"split{i}_test_score\"\n",
    "        fold_scores.extend(grid.cv_results_[key][mask])\n",
    "    \n",
    "    boxplot_data.append(fold_scores)\n",
    "    y_pred = grid.best_estimator_.predict(X_test)\n",
    "    test_acc = float(accuracy_score(y_test, y_pred))\n",
    "\n",
    "    return best_k, best_p, best_cv_acc, test_acc"
   ]
  },
  {
   "cell_type": "code",
   "execution_count": 14,
   "id": "b0d54be3-736b-4b58-bf01-f033fc23b484",
   "metadata": {},
   "outputs": [],
   "source": [
    "# Random Forest\n",
    "# You should use RandomForestClassifier from sklearn.ensemble with information gain and max_features set to ‘sqrt’.\n",
    "from sklearn.ensemble import RandomForestClassifier\n",
    "from sklearn.metrics import classification_report\n",
    "from sklearn.model_selection import GridSearchCV\n",
    "\n",
    "n_estimators = [10, 30, 60, 100]\n",
    "max_leaf_nodes = [6, 12]\n",
    "\n",
    "def bestRFClassifier(X, y):\n",
    "    X_train, X_test, y_train, y_test = train_test_split(X, y, stratify=y, random_state=0)\n",
    "    param_grid = {'n_estimators':n_estimators, 'max_leaf_nodes': max_leaf_nodes}\n",
    "    clf = GridSearchCV(RandomForestClassifier(max_features='sqrt', criterion='entropy', random_state=0), \n",
    "                       param_grid=param_grid, \n",
    "                       cv=cvKFold, \n",
    "                       return_train_score=True)\n",
    "    \n",
    "    clf.fit(X_train, y_train)\n",
    "    y_predicted = clf.predict(X_test)\n",
    "\n",
    "    report = classification_report(y_test, y_predicted, output_dict=True)\n",
    "    \n",
    "    mask = (clf.cv_results_[\"param_n_estimators\"] == clf.best_params_[\"n_estimators\"]) & \\\n",
    "           (clf.cv_results_[\"param_max_leaf_nodes\"] == clf.best_params_[\"max_leaf_nodes\"])\n",
    "    fold_scores = []\n",
    "    n_splits = cvKFold.get_n_splits()\n",
    "    for i in range(n_splits):\n",
    "        key = f\"split{i}_test_score\"\n",
    "        fold_scores.extend(clf.cv_results_[key][mask])\n",
    "        \n",
    "    boxplot_data.append(fold_scores)\n",
    "    estimators.append((f\"RF(n={clf.best_params_['n_estimators']}, L={clf.best_params_['max_leaf_nodes']})\", clf))\n",
    "    \n",
    "    results = {\n",
    "        \"best_n_estimators\": clf.best_params_[\"n_estimators\"],\n",
    "        \"best_max_leaf_nodes\": clf.best_params_[\"max_leaf_nodes\"],\n",
    "        \"cross_validation_accuracy\": clf.best_score_,\n",
    "        \"test_set_accuracy\": report[\"accuracy\"],\n",
    "        \"test_set_macro_average_f1\": report[\"macro avg\"][\"f1-score\"],\n",
    "        \"test_set_weighted_average_f1\": report[\"weighted avg\"][\"f1-score\"],\n",
    "    }\n",
    "    return results"
   ]
  },
  {
   "cell_type": "code",
   "execution_count": 15,
   "id": "1145eebb-b53b-4c08-92df-d33e4abd2f77",
   "metadata": {},
   "outputs": [
    {
     "name": "stdout",
     "output_type": "stream",
     "text": [
      "KNN best k: 5\n",
      "KNN best p: 1\n",
      "KNN cross-validation accuracy: 0.9371\n",
      "KNN test set accuracy: 0.9257\n",
      "\n",
      "RF best n_estimators: 30\n",
      "RF best max_leaf_nodes: 12\n",
      "RF cross-validation accuracy: 0.9390\n",
      "RF test set accuracy: 0.9371\n",
      "RF test set macro average F1: 0.9355\n",
      "RF test set weighted average F1: 0.9370\n"
     ]
    }
   ],
   "source": [
    "# Perform Grid Search with 10-fold stratified cross-validation (GridSearchCV in sklearn). \n",
    "# The stratified folds from cvKFold should be provided to GridSearchV\n",
    "\n",
    "# This should include using train_test_split from sklearn.model_selection with stratification and random_state=0\n",
    "# Print results for each classifier here. All results should be printed to 4 decimal places except for\n",
    "# \"k\", \"p\", n_estimators\" and \"max_leaf_nodes\" which should be printed as integers.\n",
    "best_k, best_p, best_cv_acc, test_acc = bestKNNClassifier(X, y)\n",
    "RFClassifier = bestRFClassifier(X, y)\n",
    "\n",
    "print(\"KNN best k: {}\".format(best_k))\n",
    "print(\"KNN best p: {}\".format(best_p))\n",
    "print(\"KNN cross-validation accuracy: {:.4f}\".format(best_cv_acc))\n",
    "print(\"KNN test set accuracy: {:.4f}\".format(test_acc))\n",
    "\n",
    "print()\n",
    "\n",
    "print(f\"RF best n_estimators: {RFClassifier['best_n_estimators']}\")\n",
    "print(f\"RF best max_leaf_nodes: {RFClassifier['best_max_leaf_nodes']}\")\n",
    "print(f\"RF cross-validation accuracy: {RFClassifier['cross_validation_accuracy']:.4f}\")\n",
    "print(f\"RF test set accuracy: {RFClassifier['test_set_accuracy']:.4f}\")\n",
    "print(f\"RF test set macro average F1: {RFClassifier['test_set_macro_average_f1']:.4f}\")\n",
    "print(f\"RF test set weighted average F1: {RFClassifier['test_set_weighted_average_f1']:.4f}\")"
   ]
  },
  {
   "cell_type": "markdown",
   "id": "f4e7b827",
   "metadata": {},
   "source": [
    "# Graphs"
   ]
  },
  {
   "cell_type": "code",
   "execution_count": 16,
   "id": "19c50437-d8ea-423a-9cc8-1526ab87eba5",
   "metadata": {},
   "outputs": [
    {
     "data": {
      "image/png": "[encoded data removed]",
      "text/plain": [
       "<Figure size 640x480 with 1 Axes>"
      ]
     },
     "metadata": {},
     "output_type": "display_data"
    }
   ],
   "source": [
    "import matplotlib.pyplot as plt\n",
    "plt.boxplot(\n",
    "    boxplot_data,\n",
    "    labels=[\"Logistic\\nRegression\", \"Naive\\nBayes\", \"Decision\\nTree\", \"Bagging\", \"AdaBoost\", \"Gradient\\nBoosting\", \"kNN\", \"Random\\nForest\"],\n",
    "    showmeans=True,\n",
    ")\n",
    "plt.ylabel(\"Accuracy\")\n",
    "plt.title(\"10-fold CV Accuracy Distribution\")\n",
    "plt.grid(axis=\"y\", linestyle=\"--\", alpha=0.5)\n",
    "plt.tight_layout()\n",
    "plt.show()"
   ]
  },
  {
   "cell_type": "code",
   "execution_count": null,
   "id": "e12219a9-72e4-46b0-9fb2-9150259c968f",
   "metadata": {},
   "outputs": [],
   "source": [
    "#compute normalized confusion matrix and CV accuracy\n",
    "def oof_confusion_and_acc(model, X, y, cv):\n",
    "    y_pred = cross_val_predict(model, X, y, cv=cv, n_jobs=-1)\n",
    "    cm = confusion_matrix(y, y_pred, labels=[0, 1])\n",
    "    acc = (y == y_pred).mean()\n",
    "    cm_norm = cm.astype(float) / cm.sum(axis=1, keepdims=True)\n",
    "    return cm_norm, acc\n",
    "\n",
    "\n",
    "sns.set_theme(style=\"white\")\n",
    "fig, axes = plt.subplots(2, 4, figsize=(16, 8))\n",
    "axes = axes.ravel()\n",
    "\n",
    "for ax, (name, model) in zip(axes, estimators):\n",
    "    cm_norm, acc = oof_confusion_and_acc(model, X, y, cvKFold)\n",
    "    \n",
    "\n",
    "    heatmap = sns.heatmap(\n",
    "        cm_norm, annot=False, fmt=\".2f\", cmap=\"viridis\",\n",
    "        cbar=False, square=True, ax=ax,\n",
    "        xticklabels=[0, 1], yticklabels=[0, 1]\n",
    "    )\n",
    "    \n",
    "\n",
    "    collections = heatmap.collections[0]\n",
    "\n",
    "    facecolors = collections.get_facecolors()\n",
    "\n",
    "    if facecolors.ndim == 1:\n",
    "        facecolors = np.array([facecolors])\n",
    "    \n",
    "\n",
    "    for i in range(cm_norm.shape[0]):\n",
    "        for j in range(cm_norm.shape[1]):\n",
    "            idx = i * cm_norm.shape[1] + j\n",
    "            \n",
    "            if idx < len(facecolors):\n",
    "                color = facecolors[idx]\n",
    "                \n",
    "                if len(color) >= 3:\n",
    "                    brightness = np.dot(color[:3], [0.299, 0.587, 0.114])\n",
    "\n",
    "                    text_color = 'black' if brightness > 0.6 else 'white'\n",
    "                    \n",
    "                    ax.text(j + 0.5, i + 0.5, f'{cm_norm[i, j]:.2f}',\n",
    "                           ha='center', va='center',\n",
    "                           color=text_color, fontsize=11, fontweight='bold')\n",
    "    \n",
    "    ax.set_title(f\"{name} CV Confusion Matrix (CV acc={acc:.4f})\", fontsize=12)\n",
    "    ax.set_xlabel(\"Predicted label\")\n",
    "    ax.set_ylabel(\"True label\")\n",
    "\n",
    "plt.tight_layout()\n",
    "plt.show()\n",
    "fig.savefig(\"ConfusionMatrix.png\", dpi=300, bbox_inches=\"tight\")\n"
   ]
  }
 ],
 "metadata": {
  "kernelspec": {
   "display_name": "Python 3 (ipykernel)",
   "language": "python",
   "name": "python3"
  },
  "language_info": {
   "codemirror_mode": {
    "name": "ipython",
    "version": 3
   },
   "file_extension": ".py",
   "mimetype": "text/x-python",
   "name": "python",
   "nbconvert_exporter": "python",
   "pygments_lexer": "ipython3",
   "version": "3.11.7"
  }
 },
 "nbformat": 4,
 "nbformat_minor": 5
}
